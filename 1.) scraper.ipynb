{
 "cells": [
  {
   "cell_type": "markdown",
   "metadata": {},
   "source": [
    "# Selenium Scraper"
   ]
  },
  {
   "cell_type": "markdown",
   "metadata": {},
   "source": [
    "\n",
    "BTS | Detailed Statistics Arrival Scraper\n",
    "\n",
    "@Author: Pete Aguirre II \n"
   ]
  },
  {
   "cell_type": "markdown",
   "metadata": {},
   "source": [
    "## What this file does:\n",
    "- Runs selenium chromedriver\n",
    "- Downloads datasets if they are available  for the following carriers\n",
    "\n",
    "## Things to improve/To do list:\n",
    "- Create a prompt of which Destination to extract from\n",
    "- How to download the files into a specified path\n",
    "- Create a script so that folders are automatically created\n",
    "- Find out how to extract the city name here for file naming purposes\n",
    "\n",
    "## Reference:\n",
    "- Selenium Scraper Template: https://github.com/karishmavanjani/ONTIME-Arrivals_Scraper/blob/master/notebook/Scraper_BTSWebsite.py"
   ]
  },
  {
   "cell_type": "code",
   "execution_count": null,
   "metadata": {},
   "outputs": [],
   "source": [
    "import os\n",
    "import chromedriver_binary\n",
    "\n",
    "from tabulate import tabulate\n",
    "from selenium import webdriver\n",
    "from selenium.webdriver.common.keys import Keys\n",
    "from selenium.webdriver.support.ui import Select\n",
    "from selenium.webdriver.chrome.options import Options\n",
    "from selenium.common.exceptions import NoSuchElementException"
   ]
  },
  {
   "cell_type": "code",
   "execution_count": null,
   "metadata": {},
   "outputs": [],
   "source": [
    "# get_data() Function to get datasets \n",
    "def get_data():\n",
    " submit = driver.find_element_by_xpath('//*[@id=\"btnSubmit\"]')\n",
    " driver.implicitly_wait(30)\n",
    " driver.execute_script(\"arguments[0].click();\", submit)\n",
    " driver.implicitly_wait(5)\n",
    "    \n",
    " try:\n",
    "        save= driver.find_element_by_xpath('//*[@id=\"DL_CSV\"]')\n",
    "        driver.implicitly_wait(20)\n",
    "        # multiple_down()\n",
    "        driver.implicitly_wait(10)\n",
    "        # download_loc()\n",
    "        driver.implicitly_wait(10)\n",
    "        driver.execute_script(\"arguments[0].click();\", save)\n",
    "        driver.implicitly_wait(30)\n",
    "        print(\"Grabbed success...\")\n",
    "        driver.implicitly_wait(30)    \n",
    "        \n",
    " except NoSuchElementException:\n",
    "        print(\"No data found...\")"
   ]
  },
  {
   "cell_type": "code",
   "execution_count": null,
   "metadata": {},
   "outputs": [],
   "source": [
    "# Does not work\n",
    "# Direct to a directory\n",
    "def download_loc():\n",
    "    options = Options()\n",
    "    prefs = {\"download.default_directory\": r\"C:/Users/Yuki/Documents/Git Repositories/Airline Delay Prediction Project/Datasets\"}\n",
    "    options.add_experimental_option(\"prefs\",prefs)\n"
   ]
  },
  {
   "cell_type": "code",
   "execution_count": null,
   "metadata": {},
   "outputs": [],
   "source": [
    "# Function not used\n",
    "# Enables chromedriver to download multiple files\n",
    "def multiple_down():\n",
    "    options = Options()\n",
    "    prefs = {'profile.default_content_setting_values.automatic_downloads': 1}\n",
    "    options.add_experimental_option(\"prefs\",prefs)\n",
    "\n",
    "    "
   ]
  },
  {
   "cell_type": "code",
   "execution_count": null,
   "metadata": {},
   "outputs": [],
   "source": [
    "# Checklist \n",
    "def checklist():\n",
    "    stats = driver.find_element_by_xpath('//*[@id=\"chkAllStatistics\"]')\n",
    "    # driver.find_element_by_id('chkAllStatistics').click()\n",
    "    driver.execute_script(\"arguments[0].click();\", stats)\n",
    "\n",
    "    # Click 'All Days' checkbox\n",
    "    months = driver.find_element_by_xpath('//*[@id=\"chkAllMonths\"]')\n",
    "    driver.execute_script(\"arguments[0].click();\", months)\n",
    "\n",
    "\n",
    "    days = driver.find_element_by_xpath('//*[@id=\"chkAllDays\"]')\n",
    "    driver.execute_script(\"arguments[0].click();\", days)\n",
    "\n",
    "    # Click '2019' checkbox\n",
    "    year = driver.find_element_by_id('chkYears_32')\n",
    "    driver.execute_script(\"arguments[0].click();\", year)\n",
    "\n",
    "    # Destination\n",
    "    dest = driver.find_element_by_xpath('//*[@id=\"cboAirport\"]/option[text()=\"Los Angeles, CA: Los Angeles International (LAX)\"]').click()\n"
   ]
  },
  {
   "cell_type": "code",
   "execution_count": null,
   "metadata": {},
   "outputs": [],
   "source": [
    "url = \"https://transtats.bts.gov/ONTIME/Arrivals.aspx\"\n",
    "variable = 0\n",
    "airport = \"Los Angeles, CA: Los Angeles International (LAX)\"\n",
    "\n",
    "# Downloaded datasets are located in \"../Downloads\" \n",
    "options = Options()\n",
    "prefs = {'profile.default_content_setting_values.automatic_downloads': 1}\n",
    "options.add_experimental_option(\"prefs\",prefs)\n",
    "\n",
    "# create a new Chrome session\n",
    "driver = webdriver.Chrome(options=options)\n",
    "driver.implicitly_wait(10)\n",
    "driver.get(url)\n",
    "\n",
    "checklist()\n",
    "\n",
    "# 33 items in picketlist\n",
    "while (variable < 33):\n",
    "    variable =variable+1 \n",
    "    airline = driver.find_element_by_xpath(\"//*[@id='cboAirline']/option[\"+str(variable)+\"]\").click()\n",
    "    print(driver.find_element_by_xpath(\"//*[@id='cboAirline']/option[\"+str(variable)+\"]\").get_attribute(\"value\"))\n",
    "    print(\"Grabing data...\")\n",
    "    get_data()\n",
    "else:\n",
    "    print(\"\")\n",
    "    print(\"Fin.\")"
   ]
  },
  {
   "cell_type": "code",
   "execution_count": null,
   "metadata": {},
   "outputs": [],
   "source": []
  }
 ],
 "metadata": {
  "kernelspec": {
   "display_name": "Python 3",
   "language": "python",
   "name": "python3"
  },
  "language_info": {
   "codemirror_mode": {
    "name": "ipython",
    "version": 3
   },
   "file_extension": ".py",
   "mimetype": "text/x-python",
   "name": "python",
   "nbconvert_exporter": "python",
   "pygments_lexer": "ipython3",
   "version": "3.7.3"
  }
 },
 "nbformat": 4,
 "nbformat_minor": 2
}
